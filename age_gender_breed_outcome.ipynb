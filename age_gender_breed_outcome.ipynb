{
 "cells": [
  {
   "cell_type": "code",
   "execution_count": 1,
   "metadata": {
    "collapsed": true
   },
   "outputs": [],
   "source": [
    "import pandas as pd\n",
    "import numpy as np\n",
    "import matplotlib\n",
    "import matplotlib.pyplot as plt\n",
    "%matplotlib inline\n",
    "matplotlib.rcParams.update({'font.size': 12})\n"
   ]
  },
  {
   "cell_type": "code",
   "execution_count": 6,
   "metadata": {
    "collapsed": false
   },
   "outputs": [],
   "source": [
    "#read in training file as pandas df\n",
    "df = pd.read_csv('train.csv', sep=',')\n",
    "\n",
    "#create the arrays of cat or dog vs age and outcome\n",
    "feature = 'AgeuponOutcome'\n",
    "feature_values_dog = np.array(df.loc[df['AnimalType']== 'Dog', feature])\n",
    "outcome_dog = np.array(df.loc[df['AnimalType']== 'Dog', 'OutcomeType'])\n",
    "\n",
    "feature_values_cat = np.array(df.loc[df['AnimalType']== 'Cat', feature])\n",
    "outcome_cat = np.array(df.loc[df['AnimalType']== 'Cat', 'OutcomeType'])"
   ]
  },
  {
   "cell_type": "code",
   "execution_count": 12,
   "metadata": {
    "collapsed": true
   },
   "outputs": [],
   "source": [
    "#convert age to days using fx\n",
    "#make it a string \n",
    "i=0\n",
    "j=0\n",
    "def age_to_days(item):\n",
    "    if type(item) is str:\n",
    "        item = [item]\n",
    "    ages_in_days = np.zeros(len(item))\n",
    "    #check if item[i] is in str\n",
    "    if type(item[i]) is str:\n",
    "        if 'day' in item[i]:\n",
    "            ages_in_days[i] = int(item[i].split(' ')[0])\n",
    "        if 'week' in item[i]:\n",
    "            ages_in_days[i] = int(item[i].split(' ')[0])*7\n",
    "        if 'month' in item[i]:\n",
    "            ages_in_days[i] = int(item[i].split(' ')[0])*30\n",
    "        if 'year' in item[i]:\n",
    "            ages_in_days[i] = int(item[i].split(' ')[0])*365\n",
    "        else:\n",
    "            #item[i] is NaN\n",
    "            ages_in_days[i] = 0\n",
    "    return ages_in_days"
   ]
  },
  {
   "cell_type": "code",
   "execution_count": 15,
   "metadata": {
    "collapsed": false
   },
   "outputs": [],
   "source": [
    "#using fx, calc fractions of the outcomes\n",
    "ages_dog = age_to_days(feature_values_dog)\n",
    "ages_cat = age_to_days(feature_values_cat)\n",
    "\n",
    "unique_ages = np.unique(np.append(ages_dog, ages_cat))\n",
    "unique_outcome = np.unique(np.append(outcome_dog, outcome_cat))\n",
    "\n",
    "fractions_cat = np.zeros([len(unique_ages), len(unique_outcome)])\n",
    "fractions_dog = np.zeros([len(unique_ages),len(unique_outcome)])\n",
    "nr_animals_with_age_dog = np.zeros(len(unique_ages))\n",
    "nr_animals_with_age_cat = np.zeros(len(unique_ages))\n",
    "\n",
    "for i in range(len(unique_ages)):\n",
    "    for j in range(len(unique_outcome)):\n",
    "        sublist_dog = outcome_dog[ages_dog == unique_ages[i]]\n",
    "        if len(sublist_dog)>0:\n",
    "            fractions_dog[i,j] = 1e0*len(sublist_dog[sublist_dog == unique_outcome[j]])/ len(sublist_dog)\n",
    "        else:\n",
    "            fractions_dog[i,j] = 0e0\n",
    "        sublist_cat = outcome_cat[ages_cat == unique_ages[i]]\n",
    "        fractions_cat[i,j] = 1e0*len(sublist_cat[sublist_cat == unique_outcome[j]])/ len(sublist_cat)\n",
    "        fractions_cat[i,j] = 0e0 \n",
    "    \n",
    "    nr_animals_with_age_dog[i] = len(sublist_dog)\n",
    "    nr_animals_with_age_cat[i] = len(sublist_cat)"
   ]
  },
  {
   "cell_type": "code",
   "execution_count": 19,
   "metadata": {
    "collapsed": false
   },
   "outputs": [
    {
     "data": {
      "image/png": "[encoded data removed]",
      "text/plain": [
       "<matplotlib.figure.Figure at 0x908a3c8>"
      ]
     },
     "metadata": {},
     "output_type": "display_data"
    }
   ],
   "source": [
    "#plotting!\n",
    "#nr animals vs age\n",
    "plt.figure(figsize=(10,4))\n",
    "plt.subplot(1, 2, 1)\n",
    "plt.title('Dog')\n",
    "plt.plot(unique_ages,nr_animals_with_age_dog,'+',markersize=10,mew=2)\n",
    "plt.plot(unique_ages,nr_animals_with_age_dog)\n",
    "plt.xlim([0.7,1e4])\n",
    "plt.xscale('log')\n",
    "plt.yscale('log')\n",
    "plt.xlabel('age [days]')\n",
    "plt.ylabel('number of animals in train.csv')\n",
    "plt.tight_layout(w_pad=0, h_pad=0)\n",
    "\n",
    "plt.subplot(1, 2, 2)\n",
    "plt.title('Cat')\n",
    "plt.plot(unique_ages,nr_animals_with_age_cat,'+',markersize=10,mew=2)\n",
    "plt.plot(unique_ages,nr_animals_with_age_cat)\n",
    "plt.xlim([0.7,1e4])\n",
    "plt.xscale('log')\n",
    "plt.yscale('log')\n",
    "plt.xlabel('age [days]')\n",
    "plt.ylabel('number of animals in train.csv')\n",
    "plt.tight_layout(w_pad=0, h_pad=0)\n",
    "plt.savefig('age-vs-nr_points.jpg',dpi=150)\n",
    "plt.show()\n",
    "plt.close()"
   ]
  },
  {
   "cell_type": "code",
   "execution_count": 20,
   "metadata": {
    "collapsed": true
   },
   "outputs": [],
   "source": [
    "#defo something wrong here"
   ]
  },
  {
   "cell_type": "code",
   "execution_count": 23,
   "metadata": {
    "collapsed": false
   },
   "outputs": [
    {
     "ename": "IndexError",
     "evalue": "list index out of range",
     "output_type": "error",
     "traceback": [
      "\u001b[1;31m---------------------------------------------------------------------------\u001b[0m",
      "\u001b[1;31mIndexError\u001b[0m                                Traceback (most recent call last)",
      "\u001b[1;32m<ipython-input-23-e65323527f9d>\u001b[0m in \u001b[0;36m<module>\u001b[1;34m()\u001b[0m\n\u001b[0;32m      1\u001b[0m \u001b[1;31m# fraction of outcomes\u001b[0m\u001b[1;33m\u001b[0m\u001b[1;33m\u001b[0m\u001b[0m\n\u001b[0;32m      2\u001b[0m \u001b[1;33m\u001b[0m\u001b[0m\n\u001b[1;32m----> 3\u001b[1;33m \u001b[0mages_for_axis\u001b[0m \u001b[1;33m=\u001b[0m \u001b[0mnp\u001b[0m\u001b[1;33m.\u001b[0m\u001b[0mappend\u001b[0m\u001b[1;33m(\u001b[0m\u001b[0munique_ages\u001b[0m\u001b[1;33m,\u001b[0m\u001b[0mage_to_days\u001b[0m\u001b[1;33m(\u001b[0m\u001b[1;34m'20 years'\u001b[0m\u001b[1;33m)\u001b[0m\u001b[1;33m)\u001b[0m\u001b[1;33m\u001b[0m\u001b[0m\n\u001b[0m\u001b[0;32m      4\u001b[0m \u001b[1;33m\u001b[0m\u001b[0m\n\u001b[0;32m      5\u001b[0m \u001b[0mleft\u001b[0m \u001b[1;33m=\u001b[0m \u001b[1;33m(\u001b[0m\u001b[0mages_for_axis\u001b[0m\u001b[1;33m[\u001b[0m\u001b[1;36m1\u001b[0m\u001b[1;33m:\u001b[0m\u001b[1;33m-\u001b[0m\u001b[1;36m1\u001b[0m\u001b[1;33m]\u001b[0m \u001b[1;33m+\u001b[0m \u001b[0mages_for_axis\u001b[0m\u001b[1;33m[\u001b[0m\u001b[1;33m:\u001b[0m\u001b[1;33m-\u001b[0m\u001b[1;36m2\u001b[0m\u001b[1;33m]\u001b[0m\u001b[1;33m)\u001b[0m\u001b[1;33m/\u001b[0m\u001b[1;36m2e0\u001b[0m\u001b[1;33m\u001b[0m\u001b[0m\n",
      "\u001b[1;32m<ipython-input-12-800a15db242c>\u001b[0m in \u001b[0;36mage_to_days\u001b[1;34m(item)\u001b[0m\n\u001b[0;32m      8\u001b[0m     \u001b[0mages_in_days\u001b[0m \u001b[1;33m=\u001b[0m \u001b[0mnp\u001b[0m\u001b[1;33m.\u001b[0m\u001b[0mzeros\u001b[0m\u001b[1;33m(\u001b[0m\u001b[0mlen\u001b[0m\u001b[1;33m(\u001b[0m\u001b[0mitem\u001b[0m\u001b[1;33m)\u001b[0m\u001b[1;33m)\u001b[0m\u001b[1;33m\u001b[0m\u001b[0m\n\u001b[0;32m      9\u001b[0m     \u001b[1;31m#check if item[i] is in str\u001b[0m\u001b[1;33m\u001b[0m\u001b[1;33m\u001b[0m\u001b[0m\n\u001b[1;32m---> 10\u001b[1;33m     \u001b[1;32mif\u001b[0m \u001b[0mtype\u001b[0m\u001b[1;33m(\u001b[0m\u001b[0mitem\u001b[0m\u001b[1;33m[\u001b[0m\u001b[0mi\u001b[0m\u001b[1;33m]\u001b[0m\u001b[1;33m)\u001b[0m \u001b[1;32mis\u001b[0m \u001b[0mstr\u001b[0m\u001b[1;33m:\u001b[0m\u001b[1;33m\u001b[0m\u001b[0m\n\u001b[0m\u001b[0;32m     11\u001b[0m         \u001b[1;32mif\u001b[0m \u001b[1;34m'day'\u001b[0m \u001b[1;32min\u001b[0m \u001b[0mitem\u001b[0m\u001b[1;33m[\u001b[0m\u001b[0mi\u001b[0m\u001b[1;33m]\u001b[0m\u001b[1;33m:\u001b[0m\u001b[1;33m\u001b[0m\u001b[0m\n\u001b[0;32m     12\u001b[0m             \u001b[0mages_in_days\u001b[0m\u001b[1;33m[\u001b[0m\u001b[0mi\u001b[0m\u001b[1;33m]\u001b[0m \u001b[1;33m=\u001b[0m \u001b[0mint\u001b[0m\u001b[1;33m(\u001b[0m\u001b[0mitem\u001b[0m\u001b[1;33m[\u001b[0m\u001b[0mi\u001b[0m\u001b[1;33m]\u001b[0m\u001b[1;33m.\u001b[0m\u001b[0msplit\u001b[0m\u001b[1;33m(\u001b[0m\u001b[1;34m' '\u001b[0m\u001b[1;33m)\u001b[0m\u001b[1;33m[\u001b[0m\u001b[1;36m0\u001b[0m\u001b[1;33m]\u001b[0m\u001b[1;33m)\u001b[0m\u001b[1;33m\u001b[0m\u001b[0m\n",
      "\u001b[1;31mIndexError\u001b[0m: list index out of range"
     ]
    }
   ],
   "source": [
    "# fraction of outcomes\n",
    "\n",
    "ages_for_axis = np.append(unique_ages,age_to_days('20 years'))\n",
    "\n",
    "left = (ages_for_axis[1:-1] + ages_for_axis[:-2])/2e0\n",
    "right = (ages_for_axis[1:-1] + ages_for_axis[2:])/2e0\n",
    "width = right-left\n",
    "\n",
    "plt.figure(figsize=(10,4))\n",
    "\n",
    "plt.subplot(1, 2, 1)\n",
    "plt.title('Dog')\n",
    "plt.xlabel('age [days]')\n",
    "plt.ylabel('fraction outcomes')\n",
    "plt.xscale('log')\n",
    "plt.xlim([0.7,1e4])\n",
    "plt1 = plt.bar(left, fractions_dog[1:,0], width,color='#5A8F29',edgecolor='none')\n",
    "plt2 = plt.bar(left, fractions_dog[1:,1], width,color='k',bottom = np.sum(fractions_dog[1:,:1],axis=1),edgecolor='none')\n",
    "plt3 = plt.bar(left, fractions_dog[1:,2], width,color='#FF8F00',bottom = np.sum(fractions_dog[1:,:2],axis=1),edgecolor='none')\n",
    "plt4 = plt.bar(left, fractions_dog[1:,3], width,color='#FFF5EE',bottom = np.sum(fractions_dog[1:,:3],axis=1),edgecolor='none')\n",
    "plt5 = plt.bar(left, fractions_dog[1:,4], width,color='#3C7DC4',bottom = np.sum(fractions_dog[1:,:4],axis=1),edgecolor='none')\n",
    "plt.legend([plt1,plt2,plt3,plt4,plt5],unique_outcomes,loc=2,fontsize=10)\n",
    "plt.tight_layout(w_pad=0, h_pad=0)\n",
    "plt.tick_params(axis='x', length=6, which='major',width=2)\n",
    "plt.tick_params(axis='x', length=4, which='minor',width=1)\n",
    "plt.minorticks_on()\n",
    "plt.tight_layout(w_pad=0, h_pad=0)\n",
    "\n",
    "plt.subplot(1, 2, 2)\n",
    "plt.title('Cat')\n",
    "plt.xlabel('age [days]')\n",
    "plt.ylabel('fraction outcomes')\n",
    "plt.xscale('log')\n",
    "plt.xlim([0.7,1e4])\n",
    "plt1 = plt.bar(left, fractions_cat[1:,0], width,color='#5A8F29',edgecolor='none')\n",
    "plt2 = plt.bar(left, fractions_cat[1:,1], width,color='k',bottom = np.sum(fractions_cat[1:,:1],axis=1),edgecolor='none')\n",
    "plt3 = plt.bar(left, fractions_cat[1:,2], width,color='#FF8F00',bottom = np.sum(fractions_cat[1:,:2],axis=1),edgecolor='none')\n",
    "plt4 = plt.bar(left, fractions_cat[1:,3], width,color='#FFF5EE',bottom = np.sum(fractions_cat[1:,:3],axis=1),edgecolor='none')\n",
    "plt5 = plt.bar(left, fractions_cat[1:,4], width,color='#3C7DC4',bottom = np.sum(fractions_cat[1:,:4],axis=1),edgecolor='none')\n",
    "plt.legend([plt1,plt2,plt3,plt4,plt5],unique_outcomes,loc=2,fontsize=10)\n",
    "plt.tight_layout(w_pad=0, h_pad=0)\n",
    "plt.tick_params(axis='x', length=6, which='major',width=2)\n",
    "plt.tick_params(axis='x', length=4, which='minor',width=1)\n",
    "plt.minorticks_on()\n",
    "plt.tight_layout(w_pad=0, h_pad=0)\n",
    "plt.savefig('age-vs-outcome.jpg',dpi=150)\n",
    "plt.show()\n",
    "plt.close()"
   ]
  },
  {
   "cell_type": "code",
   "execution_count": null,
   "metadata": {
    "collapsed": true
   },
   "outputs": [],
   "source": []
  }
 ],
 "metadata": {
  "kernelspec": {
   "display_name": "Python 3",
   "language": "python",
   "name": "python3"
  },
  "language_info": {
   "codemirror_mode": {
    "name": "ipython",
    "version": 3
   },
   "file_extension": ".py",
   "mimetype": "text/x-python",
   "name": "python",
   "nbconvert_exporter": "python",
   "pygments_lexer": "ipython3",
   "version": "3.5.1"
  }
 },
 "nbformat": 4,
 "nbformat_minor": 0
}
